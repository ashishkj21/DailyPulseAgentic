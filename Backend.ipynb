{
 "cells": [
  {
   "cell_type": "code",
   "execution_count": 1,
   "id": "95c8e1d3-918a-4796-966c-921f6d3569af",
   "metadata": {},
   "outputs": [],
   "source": [
    "import os\n",
    "import random\n",
    "import json\n",
    "import requests\n",
    "from operator import itemgetter\n",
    "from typing import Union, List\n",
    "from langchain_openai import AzureChatOpenAI\n",
    "from langchain.agents import AgentExecutor, Tool, create_openai_tools_agent\n",
    "from langchain_community.chat_message_histories import ChatMessageHistory, CosmosDBChatMessageHistory\n",
    "from langchain.callbacks.manager import CallbackManager\n",
    "from langchain_core.runnables.history import RunnableWithMessageHistory\n",
    "from langchain_core.runnables import ConfigurableFieldSpec, ConfigurableField\n",
    "from langchain_core.prompts import PromptTemplate, ChatPromptTemplate, MessagesPlaceholder\n",
    "from langchain_core.output_parsers import StrOutputParser\n",
    "from langchain.output_parsers import JsonOutputToolsParser\n",
    "from langchain_core.runnables import (\n",
    "    Runnable,\n",
    "    RunnableLambda,\n",
    "    RunnableMap,\n",
    "    RunnablePassthrough,\n",
    ")\n",
    "\n",
    "#custom libraries that we will use later in the app\n",
    "from common.utils import (\n",
    "    SQLSearchAgent\n",
    ")\n",
    "from common.callbacks import StdOutCallbackHandler\n",
    "from common.prompts import CUSTOM_CHATBOT_PROMPT \n",
    "\n",
    "from dotenv import load_dotenv\n",
    "load_dotenv(\"credentials.env\")\n",
    "\n",
    "from IPython.display import Markdown, HTML, display \n",
    "\n",
    "def printmd(string):\n",
    "    display(Markdown(string))"
   ]
  },
  {
   "cell_type": "code",
   "execution_count": 2,
   "id": "cac46bba-95dc-4643-8e8b-b0ca04d2a0e3",
   "metadata": {},
   "outputs": [],
   "source": [
    "cb_handler = StdOutCallbackHandler()\n",
    "cb_manager = CallbackManager(handlers=[cb_handler])\n",
    "\n",
    "COMPLETION_TOKENS = 2000\n",
    "\n",
    "# We can run the everything with GPT3.5, but try also GPT4 and see the difference in the quality of responses\n",
    "# You will notice that GPT3.5 is not as reliable when using multiple sources.\n",
    "\n",
    "# llm = AzureChatOpenAI(deployment_name=os.environ[\"GPT4o_DEPLOYMENT_NAME\"], \n",
    "#                       temperature=0, max_tokens=COMPLETION_TOKENS)\n",
    "\n",
    "# Uncomment below if you want to see the answers streaming\n",
    "llm = AzureChatOpenAI(deployment_name=os.environ[\"GPT4o_DEPLOYMENT_NAME\"], temperature=0, max_tokens=COMPLETION_TOKENS, streaming=True, callback_manager=cb_manager, api_version=\"2024-05-01-preview\")\n",
    "# llm = ChatOllama(model = \"llama3.2:latest\", max_tokens = 128000, temperature=0, callbacks=cb_manager, disable_streaming = False)"
   ]
  },
  {
   "cell_type": "code",
   "execution_count": 3,
   "id": "ed9653da-c2fa-423a-ae6d-2cc642de4f24",
   "metadata": {},
   "outputs": [],
   "source": [
    "sql_search = SQLSearchAgent(llm=llm, k=10, callback_manager=cb_manager,\n",
    "                name=\"sqlsearch\",\n",
    "                description=\"useful when the questions includes the term: sqlsearch\",\n",
    "                verbose=False)"
   ]
  },
  {
   "cell_type": "markdown",
   "id": "c2a8df54-f551-42b3-84ea-66f22c58f107",
   "metadata": {},
   "source": [
    "# Multi Agent"
   ]
  },
  {
   "cell_type": "code",
   "execution_count": 4,
   "id": "c9951305-136a-4f22-9dfc-bdb687a9e4dc",
   "metadata": {},
   "outputs": [],
   "source": [
    "tools = [sql_search]"
   ]
  },
  {
   "cell_type": "code",
   "execution_count": 5,
   "id": "7ab1674c-2433-4944-b901-3c81255adaa8",
   "metadata": {},
   "outputs": [],
   "source": [
    "agent = create_openai_tools_agent(llm, tools, CUSTOM_CHATBOT_PROMPT)"
   ]
  },
  {
   "cell_type": "code",
   "execution_count": 6,
   "id": "5fb70eff-f3ef-4e90-ab50-3397210688b8",
   "metadata": {},
   "outputs": [],
   "source": [
    "agent_executor = AgentExecutor(agent=agent, tools=tools, verbose=False)"
   ]
  },
  {
   "cell_type": "code",
   "execution_count": 7,
   "id": "4c5dce42-aac5-4bda-bd9d-a40dcadd7632",
   "metadata": {},
   "outputs": [],
   "source": [
    "def get_session_history(session_id: str, user_id: str) -> CosmosDBChatMessageHistory:\n",
    "    cosmos = CosmosDBChatMessageHistory(\n",
    "        cosmos_endpoint=os.environ['AZURE_COSMOSDB_ENDPOINT'],\n",
    "        cosmos_database=os.environ['AZURE_COSMOSDB_NAME'],\n",
    "        cosmos_container=os.environ['AZURE_COSMOSDB_CONTAINER_NAME'],\n",
    "        connection_string=os.environ['AZURE_COMOSDB_CONNECTION_STRING'],\n",
    "        session_id=session_id,\n",
    "        user_id=user_id\n",
    "        )\n",
    "\n",
    "    # prepare the cosmosdb instance\n",
    "    cosmos.prepare_cosmos()\n",
    "    return cosmos"
   ]
  },
  {
   "cell_type": "code",
   "execution_count": 8,
   "id": "f0babb39-b581-46ea-883d-ef75180e2a4b",
   "metadata": {},
   "outputs": [],
   "source": [
    "brain_agent_executor = RunnableWithMessageHistory(\n",
    "    agent_executor,\n",
    "    get_session_history,\n",
    "    input_messages_key=\"question\",\n",
    "    history_messages_key=\"history\",\n",
    "    history_factory_config=[\n",
    "        ConfigurableFieldSpec(\n",
    "            id=\"user_id\",\n",
    "            annotation=str,\n",
    "            name=\"User ID\",\n",
    "            description=\"Unique identifier for the user.\",\n",
    "            default=\"\",\n",
    "            is_shared=True,\n",
    "        ),\n",
    "        ConfigurableFieldSpec(\n",
    "            id=\"session_id\",\n",
    "            annotation=str,\n",
    "            name=\"Session ID\",\n",
    "            description=\"Unique identifier for the conversation.\",\n",
    "            default=\"\",\n",
    "            is_shared=True,\n",
    "        ),\n",
    "    ],\n",
    ")"
   ]
  },
  {
   "cell_type": "code",
   "execution_count": 9,
   "id": "bf54b6b5-3013-468a-b835-b5c16d64329f",
   "metadata": {},
   "outputs": [
    {
     "name": "stdout",
     "output_type": "stream",
     "text": [
      "session406 user183\n"
     ]
    }
   ],
   "source": [
    "# This is where we configure the session id and user id\n",
    "random_session_id = \"session\"+ str(random.randint(1, 1000))\n",
    "ramdom_user_id = \"user\"+ str(random.randint(1, 1000))\n",
    "\n",
    "# random_session_id = \"session428\" \n",
    "# ramdom_user_id = \"user325\"\n",
    "config={\"configurable\": {\"session_id\": random_session_id, \"user_id\": ramdom_user_id}}\n",
    "print(random_session_id, ramdom_user_id)"
   ]
  },
  {
   "cell_type": "markdown",
   "id": "01c53caf-443b-47af-931d-df450f229662",
   "metadata": {},
   "source": [
    "# Sample with Positive prompt"
   ]
  },
  {
   "cell_type": "code",
   "execution_count": 11,
   "id": "3dfb78c1-455b-46e5-8ee3-27fd41eeeba1",
   "metadata": {},
   "outputs": [
    {
     "name": "stdin",
     "output_type": "stream",
     "text": [
      "Enter your question (or type 'exit' to quit):  Hi\n"
     ]
    },
    {
     "name": "stdout",
     "output_type": "stream",
     "text": [
      "Hello! I hope you're having a great day so far. Are you ready to dive into your daily standup update, or is there something else I can assist you with today?"
     ]
    },
    {
     "data": {
      "text/markdown": [
       "Hello! I hope you're having a great day so far. Are you ready to dive into your daily standup update, or is there something else I can assist you with today?"
      ],
      "text/plain": [
       "<IPython.core.display.Markdown object>"
      ]
     },
     "metadata": {},
     "output_type": "display_data"
    },
    {
     "name": "stdin",
     "output_type": "stream",
     "text": [
      "Enter your question (or type 'exit' to quit):  Yes\n"
     ]
    },
    {
     "name": "stdout",
     "output_type": "stream",
     "text": [
      "Fantastic! Let's get started with your daily standup update. Based on your GitHub activity from the past 24 hours, here's a draft of your update:\n",
      "\n",
      "### Accomplishments:\n",
      "- **Direct Message Functionality**: Successfully implemented and tested the direct message functionality, which is now working as expected.\n",
      "- **Memory Storage Update**: Transitioned the storage of memory from a local JSON file to a database, enhancing the project's scalability and reliability.\n",
      "\n",
      "### Plans:\n",
      "- **Database Setup**: Complete the database setup for the codebase to ensure all functionalities are fully operational and integrated.\n",
      "\n",
      "### Blockers:\n",
      "- **Database Setup**: The setup for the database is not yet complete, which might delay further integration and testing of features that rely on database operations.\n",
      "\n",
      "Please review this draft. Would you like to make any changes or add more details?"
     ]
    },
    {
     "data": {
      "text/markdown": [
       "Fantastic! Let's get started with your daily standup update. Based on your GitHub activity from the past 24 hours, here's a draft of your update:\n",
       "\n",
       "### Accomplishments:\n",
       "- **Direct Message Functionality**: Successfully implemented and tested the direct message functionality, which is now working as expected.\n",
       "- **Memory Storage Update**: Transitioned the storage of memory from a local JSON file to a database, enhancing the project's scalability and reliability.\n",
       "\n",
       "### Plans:\n",
       "- **Database Setup**: Complete the database setup for the codebase to ensure all functionalities are fully operational and integrated.\n",
       "\n",
       "### Blockers:\n",
       "- **Database Setup**: The setup for the database is not yet complete, which might delay further integration and testing of features that rely on database operations.\n",
       "\n",
       "Please review this draft. Would you like to make any changes or add more details?"
      ],
      "text/plain": [
       "<IPython.core.display.Markdown object>"
      ]
     },
     "metadata": {},
     "output_type": "display_data"
    },
    {
     "name": "stdin",
     "output_type": "stream",
     "text": [
      "Enter your question (or type 'exit' to quit):  This looks good\n"
     ]
    },
    {
     "name": "stdout",
     "output_type": "stream",
     "text": [
      "Great to hear that it looks good! I'll go ahead and submit this update for you.\n",
      "\n",
      "Just to confirm, here's the final version of your standup update:\n",
      "\n",
      "### Accomplishments:\n",
      "- **Direct Message Functionality**: Successfully implemented and tested the direct message functionality, which is now working as expected.\n",
      "- **Memory Storage Update**: Transitioned the storage of memory from a local JSON file to a database, enhancing the project's scalability and reliability.\n",
      "\n",
      "### Plans:\n",
      "- **Database Setup**: Complete the database setup for the codebase to ensure all functionalities are fully operational and integrated.\n",
      "\n",
      "### Blockers:\n",
      "- **Database Setup**: The setup for the database is not yet complete, which might delay further integration and testing of features that rely on database operations.\n",
      "\n",
      "If everything looks good, I'll submit it now."
     ]
    },
    {
     "data": {
      "text/markdown": [
       "Great to hear that it looks good! I'll go ahead and submit this update for you.\n",
       "\n",
       "Just to confirm, here's the final version of your standup update:\n",
       "\n",
       "### Accomplishments:\n",
       "- **Direct Message Functionality**: Successfully implemented and tested the direct message functionality, which is now working as expected.\n",
       "- **Memory Storage Update**: Transitioned the storage of memory from a local JSON file to a database, enhancing the project's scalability and reliability.\n",
       "\n",
       "### Plans:\n",
       "- **Database Setup**: Complete the database setup for the codebase to ensure all functionalities are fully operational and integrated.\n",
       "\n",
       "### Blockers:\n",
       "- **Database Setup**: The setup for the database is not yet complete, which might delay further integration and testing of features that rely on database operations.\n",
       "\n",
       "If everything looks good, I'll submit it now."
      ],
      "text/plain": [
       "<IPython.core.display.Markdown object>"
      ]
     },
     "metadata": {},
     "output_type": "display_data"
    },
    {
     "name": "stdin",
     "output_type": "stream",
     "text": [
      "Enter your question (or type 'exit' to quit):  Submit it \n"
     ]
    },
    {
     "name": "stdout",
     "output_type": "stream",
     "text": [
      "Tool: sqlsearch\n",
      "Agent Action: \n",
      "Invoking: `sql_db_list_tables` with `{}`\n",
      "\n",
      "\n",
      "\n",
      "It appears that the table you are trying to insert data into, `standup_updates`, does not exist in the database. The available table is `dailypulse`. Let me correct the table name and proceed with the insertion.\n",
      "\n",
      "Here's the corrected insertion query:\n",
      "\n",
      "```sql\n",
      "INSERT INTO dailypulse (username, accomplishment, todo, blocker, date)\n",
      "VALUES ('ashishkj21', 'Direct Message Functionality: Successfully implemented and tested. Memory Storage Update: Transitioned storage from local JSON to database.', 'Complete the database setup for the codebase.', 'Database setup not complete, may delay further integration and testing.', '2025-01-10');\n",
      "```\n",
      "\n",
      "I will now execute this corrected query.Agent Action: \n",
      "Invoking: `sql_db_query` with `{'query': \"INSERT INTO dailypulse (username, accomplishment, todo, blocker, date) VALUES ('ashishkj21', 'Direct Message Functionality: Successfully implemented and tested. Memory Storage Update: Transitioned storage from local JSON to database.', 'Complete the database setup for the codebase.', 'Database setup not complete, may delay further integration and testing.', '2025-01-10');\"}`\n",
      "responded: It appears that the table you are trying to insert data into, `standup_updates`, does not exist in the database. The available table is `dailypulse`. Let me correct the table name and proceed with the insertion.\n",
      "\n",
      "Here's the corrected insertion query:\n",
      "\n",
      "```sql\n",
      "INSERT INTO dailypulse (username, accomplishment, todo, blocker, date)\n",
      "VALUES ('ashishkj21', 'Direct Message Functionality: Successfully implemented and tested. Memory Storage Update: Transitioned storage from local JSON to database.', 'Complete the database setup for the codebase.', 'Database setup not complete, may delay further integration and testing.', '2025-01-10');\n",
      "```\n",
      "\n",
      "I will now execute this corrected query.\n",
      "\n",
      "\n",
      "The data has been successfully inserted into the `dailypulse` table. If you have any more updates or queries, feel free to let me know!Your standup update has been successfully submitted! If there's anything else you need help with or any other updates you'd like to make, just let me know. Have a great day ahead!"
     ]
    },
    {
     "data": {
      "text/markdown": [
       "Your standup update has been successfully submitted! If there's anything else you need help with or any other updates you'd like to make, just let me know. Have a great day ahead!"
      ],
      "text/plain": [
       "<IPython.core.display.Markdown object>"
      ]
     },
     "metadata": {},
     "output_type": "display_data"
    },
    {
     "name": "stdin",
     "output_type": "stream",
     "text": [
      "Enter your question (or type 'exit' to quit):  exit\n"
     ]
    },
    {
     "name": "stdout",
     "output_type": "stream",
     "text": [
      "Goodbye!\n"
     ]
    }
   ],
   "source": [
    "def chat_with_agent():  \n",
    "    while True:  \n",
    "        question = input(\"Enter your question (or type 'exit' to quit): \")  \n",
    "        if question.lower() == \"exit\":  \n",
    "            print(\"Goodbye!\")  \n",
    "            break  \n",
    "        response = brain_agent_executor.invoke({\"question\": question}, config=config)[\"output\"]  \n",
    "        printmd(response)  \n",
    "  \n",
    "# Run the chat function  \n",
    "chat_with_agent()  "
   ]
  },
  {
   "cell_type": "markdown",
   "id": "da7ff0e1-c3b6-4e19-9dfe-bd700dfd5dc5",
   "metadata": {},
   "source": [
    "# Sample with negative prompt"
   ]
  },
  {
   "cell_type": "code",
   "execution_count": 10,
   "id": "6a782dc8-5d08-4711-9914-19f8b7f04a06",
   "metadata": {},
   "outputs": [
    {
     "name": "stdin",
     "output_type": "stream",
     "text": [
      "Enter your question (or type 'exit' to quit):  Hi\n"
     ]
    },
    {
     "name": "stdout",
     "output_type": "stream",
     "text": [
      "Good morning! Ready for a productive day ahead? Let's get started with your daily standup update! Are you ready to provide your update for today?"
     ]
    },
    {
     "data": {
      "text/markdown": [
       "Good morning! Ready for a productive day ahead? Let's get started with your daily standup update! Are you ready to provide your update for today?"
      ],
      "text/plain": [
       "<IPython.core.display.Markdown object>"
      ]
     },
     "metadata": {},
     "output_type": "display_data"
    },
    {
     "name": "stdin",
     "output_type": "stream",
     "text": [
      "Enter your question (or type 'exit' to quit):  No\n"
     ]
    },
    {
     "name": "stdout",
     "output_type": "stream",
     "text": [
      "That's perfectly fine! Whenever you're ready to provide your update, just let me know. In the meantime, feel free to ask me anything else you might need assistance with. I'm here to help!"
     ]
    },
    {
     "data": {
      "text/markdown": [
       "That's perfectly fine! Whenever you're ready to provide your update, just let me know. In the meantime, feel free to ask me anything else you might need assistance with. I'm here to help!"
      ],
      "text/plain": [
       "<IPython.core.display.Markdown object>"
      ]
     },
     "metadata": {},
     "output_type": "display_data"
    },
    {
     "name": "stdin",
     "output_type": "stream",
     "text": [
      "Enter your question (or type 'exit' to quit):  I am now ready\n"
     ]
    },
    {
     "name": "stdout",
     "output_type": "stream",
     "text": [
      "Great! Let's dive into your standup update. Based on your GitHub activity from the past 24 hours, here's a draft of your update:\n",
      "\n",
      "### Accomplishments:\n",
      "- **Direct Message Functionality**: Successfully implemented and tested the direct message functionality, which is now working as expected.\n",
      "- **Memory Storage Update**: Transitioned the storage of memory from a local JSON file to a database, enhancing the project's scalability and reliability.\n",
      "\n",
      "### Plans:\n",
      "- **Database Setup**: Complete the database setup for the codebase to ensure all functionalities are fully operational and integrated.\n",
      "\n",
      "### Blockers:\n",
      "- **Database Setup**: The setup for the database is not yet complete, which might delay further integration and testing of features that rely on database operations.\n",
      "\n",
      "Please review this draft. Would you like to make any changes or add more details?"
     ]
    },
    {
     "data": {
      "text/markdown": [
       "Great! Let's dive into your standup update. Based on your GitHub activity from the past 24 hours, here's a draft of your update:\n",
       "\n",
       "### Accomplishments:\n",
       "- **Direct Message Functionality**: Successfully implemented and tested the direct message functionality, which is now working as expected.\n",
       "- **Memory Storage Update**: Transitioned the storage of memory from a local JSON file to a database, enhancing the project's scalability and reliability.\n",
       "\n",
       "### Plans:\n",
       "- **Database Setup**: Complete the database setup for the codebase to ensure all functionalities are fully operational and integrated.\n",
       "\n",
       "### Blockers:\n",
       "- **Database Setup**: The setup for the database is not yet complete, which might delay further integration and testing of features that rely on database operations.\n",
       "\n",
       "Please review this draft. Would you like to make any changes or add more details?"
      ],
      "text/plain": [
       "<IPython.core.display.Markdown object>"
      ]
     },
     "metadata": {},
     "output_type": "display_data"
    },
    {
     "name": "stdin",
     "output_type": "stream",
     "text": [
      "Enter your question (or type 'exit' to quit):  No this looks good\n"
     ]
    },
    {
     "name": "stdout",
     "output_type": "stream",
     "text": [
      "Fantastic! I'll go ahead and submit this update for you.\n",
      "\n",
      "Just to confirm, here's the final version of your standup update:\n",
      "\n",
      "### Accomplishments:\n",
      "- **Direct Message Functionality**: Successfully implemented and tested the direct message functionality, which is now working as expected.\n",
      "- **Memory Storage Update**: Transitioned the storage of memory from a local JSON file to a database, enhancing the project's scalability and reliability.\n",
      "\n",
      "### Plans:\n",
      "- **Database Setup**: Complete the database setup for the codebase to ensure all functionalities are fully operational and integrated.\n",
      "\n",
      "### Blockers:\n",
      "- **Database Setup**: The setup for the database is not yet complete, which might delay further integration and testing of features that rely on database operations.\n",
      "\n",
      "If everything looks good, I'll submit it now."
     ]
    },
    {
     "data": {
      "text/markdown": [
       "Fantastic! I'll go ahead and submit this update for you.\n",
       "\n",
       "Just to confirm, here's the final version of your standup update:\n",
       "\n",
       "### Accomplishments:\n",
       "- **Direct Message Functionality**: Successfully implemented and tested the direct message functionality, which is now working as expected.\n",
       "- **Memory Storage Update**: Transitioned the storage of memory from a local JSON file to a database, enhancing the project's scalability and reliability.\n",
       "\n",
       "### Plans:\n",
       "- **Database Setup**: Complete the database setup for the codebase to ensure all functionalities are fully operational and integrated.\n",
       "\n",
       "### Blockers:\n",
       "- **Database Setup**: The setup for the database is not yet complete, which might delay further integration and testing of features that rely on database operations.\n",
       "\n",
       "If everything looks good, I'll submit it now."
      ],
      "text/plain": [
       "<IPython.core.display.Markdown object>"
      ]
     },
     "metadata": {},
     "output_type": "display_data"
    },
    {
     "name": "stdin",
     "output_type": "stream",
     "text": [
      "Enter your question (or type 'exit' to quit):  Submit it\n"
     ]
    },
    {
     "name": "stdout",
     "output_type": "stream",
     "text": [
      "Tool: sqlsearch\n",
      "Agent Action: \n",
      "Invoking: `sql_db_list_tables` with `{}`\n",
      "\n",
      "\n",
      "\n",
      "It appears that the table you are trying to insert data into is named `dailypulse`, not `standup_updates`. Let's correct the table name and proceed with the insertion. Here's the corrected SQL query:\n",
      "\n",
      "```sql\n",
      "INSERT INTO dailypulse (username, accomplishment, todo, blocker, date)\n",
      "VALUES ('ashishkj21', 'Direct Message Functionality: Successfully implemented and tested the direct message functionality, which is now working as expected. Memory Storage Update: Transitioned the storage of memory from a local JSON file to a database, enhancing the project scalability and reliability.', 'Database Setup: Complete the database setup for the codebase to ensure all functionalities are fully operational and integrated.', 'Database Setup: The setup for the database is not yet complete, which might delay further integration and testing of features that rely on database operations.', '2025-01-09');\n",
      "```\n",
      "\n",
      "I will now execute this corrected query.Agent Action: \n",
      "Invoking: `sql_db_query_checker` with `{'query': \"INSERT INTO dailypulse (username, accomplishment, todo, blocker, date) VALUES ('ashishkj21', 'Direct Message Functionality: Successfully implemented and tested the direct message functionality, which is now working as expected. Memory Storage Update: Transitioned the storage of memory from a local JSON file to a database, enhancing the project scalability and reliability.', 'Database Setup: Complete the database setup for the codebase to ensure all functionalities are fully operational and integrated.', 'Database Setup: The setup for the database is not yet complete, which might delay further integration and testing of features that rely on database operations.', '2025-01-09');\"}`\n",
      "responded: It appears that the table you are trying to insert data into is named `dailypulse`, not `standup_updates`. Let's correct the table name and proceed with the insertion. Here's the corrected SQL query:\n",
      "\n",
      "```sql\n",
      "INSERT INTO dailypulse (username, accomplishment, todo, blocker, date)\n",
      "VALUES ('ashishkj21', 'Direct Message Functionality: Successfully implemented and tested the direct message functionality, which is now working as expected. Memory Storage Update: Transitioned the storage of memory from a local JSON file to a database, enhancing the project scalability and reliability.', 'Database Setup: Complete the database setup for the codebase to ensure all functionalities are fully operational and integrated.', 'Database Setup: The setup for the database is not yet complete, which might delay further integration and testing of features that rely on database operations.', '2025-01-09');\n",
      "```\n",
      "\n",
      "I will now execute this corrected query.\n",
      "\n",
      "\n",
      "INSERT INTO dailypulse (username, accomplishment, todo, blocker, date) VALUES ('ashishkj21', 'Direct Message Functionality: Successfully implemented and tested the direct message functionality, which is now working as expected. Memory Storage Update: Transitioned the storage of memory from a local JSON file to a database, enhancing the project scalability and reliability.', 'Database Setup: Complete the database setup for the codebase to ensure all functionalities are fully operational and integrated.', 'Database Setup: The setup for the database is not yet complete, which might delay further integration and testing of features that rely on database operations.', '2025-01-09');Agent Action: \n",
      "Invoking: `sql_db_query` with `{'query': \"INSERT INTO dailypulse (username, accomplishment, todo, blocker, date) VALUES ('ashishkj21', 'Direct Message Functionality: Successfully implemented and tested the direct message functionality, which is now working as expected. Memory Storage Update: Transitioned the storage of memory from a local JSON file to a database, enhancing the project scalability and reliability.', 'Database Setup: Complete the database setup for the codebase to ensure all functionalities are fully operational and integrated.', 'Database Setup: The setup for the database is not yet complete, which might delay further integration and testing of features that rely on database operations.', '2025-01-09');\"}`\n",
      "\n",
      "\n",
      "\n",
      "The data has been successfully inserted into the `dailypulse` table with the following details:\n",
      "- **Username:** ashishkj21\n",
      "- **Accomplishment:** Direct Message Functionality: Successfully implemented and tested the direct message functionality, which is now working as expected. Memory Storage Update: Transitioned the storage of memory from a local JSON file to a database, enhancing the project scalability and reliability.\n",
      "- **To Do:** Database Setup: Complete the database setup for the codebase to ensure all functionalities are fully operational and integrated.\n",
      "- **Blocker:** Database Setup: The setup for the database is not yet complete, which might delay further integration and testing of features that rely on database operations.\n",
      "- **Date:** 2025-01-09\n",
      "\n",
      "If you need any further assistance or another query, feel free to ask!Your standup update has been successfully submitted! If there's anything else you need help with or any other updates you'd like to make, just let me know. Have a great day ahead!"
     ]
    },
    {
     "data": {
      "text/markdown": [
       "Your standup update has been successfully submitted! If there's anything else you need help with or any other updates you'd like to make, just let me know. Have a great day ahead!"
      ],
      "text/plain": [
       "<IPython.core.display.Markdown object>"
      ]
     },
     "metadata": {},
     "output_type": "display_data"
    },
    {
     "name": "stdin",
     "output_type": "stream",
     "text": [
      "Enter your question (or type 'exit' to quit):  Thats all for now, thank you!\n"
     ]
    },
    {
     "name": "stdout",
     "output_type": "stream",
     "text": [
      "You're welcome! If you ever need assistance again, don't hesitate to reach out. Have a wonderful day!"
     ]
    },
    {
     "data": {
      "text/markdown": [
       "You're welcome! If you ever need assistance again, don't hesitate to reach out. Have a wonderful day!"
      ],
      "text/plain": [
       "<IPython.core.display.Markdown object>"
      ]
     },
     "metadata": {},
     "output_type": "display_data"
    },
    {
     "name": "stdin",
     "output_type": "stream",
     "text": [
      "Enter your question (or type 'exit' to quit):  exit\n"
     ]
    },
    {
     "name": "stdout",
     "output_type": "stream",
     "text": [
      "Goodbye!\n"
     ]
    }
   ],
   "source": [
    "def chat_with_agent():  \n",
    "    while True:  \n",
    "        question = input(\"Enter your question (or type 'exit' to quit): \")  \n",
    "        if question.lower() == \"exit\":  \n",
    "            print(\"Goodbye!\")  \n",
    "            break  \n",
    "        response = brain_agent_executor.invoke({\"question\": question}, config=config)[\"output\"]  \n",
    "        printmd(response)  \n",
    "  \n",
    "# Run the chat function  \n",
    "chat_with_agent()  "
   ]
  },
  {
   "cell_type": "markdown",
   "id": "5359d20f-74ef-489c-8f1c-9559640bde9c",
   "metadata": {},
   "source": []
  },
  {
   "cell_type": "code",
   "execution_count": null,
   "id": "6248ee7e-9100-4420-9ffc-8b877aa39f78",
   "metadata": {},
   "outputs": [],
   "source": []
  },
  {
   "cell_type": "markdown",
   "id": "e1d966cc-0250-46b6-990e-43d3ea241a4d",
   "metadata": {},
   "source": [
    "# Further Testing"
   ]
  },
  {
   "cell_type": "code",
   "execution_count": 11,
   "id": "fd58f560-30b0-4594-872f-fa19aa110383",
   "metadata": {},
   "outputs": [
    {
     "name": "stdout",
     "output_type": "stream",
     "text": [
      "Good morning! Ready for a productive day ahead? Let's get started with your daily standup update! Are you ready to provide your update for today?"
     ]
    },
    {
     "data": {
      "text/markdown": [
       "Good morning! Ready for a productive day ahead? Let's get started with your daily standup update! Are you ready to provide your update for today?"
      ],
      "text/plain": [
       "<IPython.core.display.Markdown object>"
      ]
     },
     "metadata": {},
     "output_type": "display_data"
    }
   ],
   "source": [
    "printmd(brain_agent_executor.invoke({\"question\": \"Hi\"}, \n",
    "                                    config=config)[\"output\"])"
   ]
  },
  {
   "cell_type": "code",
   "execution_count": 12,
   "id": "3738811f-2f6e-451e-9ae7-d447af19142d",
   "metadata": {
    "scrolled": true
   },
   "outputs": [
    {
     "name": "stdout",
     "output_type": "stream",
     "text": [
      "Here's a summary of the GitHub issues from yesterday, January 8th, 2025, for the repository `ashishkj21/DailyPulseFastAPI`:\n",
      "\n",
      "1. **Issue: Code Structure**\n",
      "   - **Opened:** 2025-01-08 23:51:42\n",
      "   - **URL:** [Issue #2](https://github.com/ashishkj21/DailyPulseFastAPI/issues/2)\n",
      "   - **Description:** The code structure is described as very primitive, with folder structures not arranged in a professional manner.\n",
      "\n",
      "2. **Issue: Github Repo Lacks ReadMe**\n",
      "   - **Opened:** 2025-01-08 22:07:42\n",
      "   - **URL:** [Issue #1](https://github.com/ashishkj21/DailyPulseFastAPI/issues/1)\n",
      "   - **Description:** The repository lacks a descriptive readme file, making it difficult to understand the project requirements.\n",
      "\n",
      "These issues highlight areas for improvement in documentation and project structure. Would you like to discuss plans to address these issues or any other specific details?"
     ]
    },
    {
     "data": {
      "text/markdown": [
       "Here's a summary of the GitHub issues from yesterday, January 8th, 2025, for the repository `ashishkj21/DailyPulseFastAPI`:\n",
       "\n",
       "1. **Issue: Code Structure**\n",
       "   - **Opened:** 2025-01-08 23:51:42\n",
       "   - **URL:** [Issue #2](https://github.com/ashishkj21/DailyPulseFastAPI/issues/2)\n",
       "   - **Description:** The code structure is described as very primitive, with folder structures not arranged in a professional manner.\n",
       "\n",
       "2. **Issue: Github Repo Lacks ReadMe**\n",
       "   - **Opened:** 2025-01-08 22:07:42\n",
       "   - **URL:** [Issue #1](https://github.com/ashishkj21/DailyPulseFastAPI/issues/1)\n",
       "   - **Description:** The repository lacks a descriptive readme file, making it difficult to understand the project requirements.\n",
       "\n",
       "These issues highlight areas for improvement in documentation and project structure. Would you like to discuss plans to address these issues or any other specific details?"
      ],
      "text/plain": [
       "<IPython.core.display.Markdown object>"
      ]
     },
     "metadata": {},
     "output_type": "display_data"
    }
   ],
   "source": [
    "printmd(brain_agent_executor.invoke({\"question\": \"Give me a summary of the github issues from yesterday\"}, \n",
    "                                    config=config)[\"output\"])"
   ]
  },
  {
   "cell_type": "code",
   "execution_count": null,
   "id": "3fb2899f-01d7-4671-90f9-2a426af40ef8",
   "metadata": {},
   "outputs": [],
   "source": [
    "printmd(brain_agent_executor.invoke({\"question\": \"Give me a summary of the github issues from 9th January\"}, \n",
    "                                    config=config)[\"output\"])"
   ]
  },
  {
   "cell_type": "code",
   "execution_count": 13,
   "id": "99794603-847d-43cc-892d-53afc14e0005",
   "metadata": {},
   "outputs": [
    {
     "name": "stdout",
     "output_type": "stream",
     "text": [
      "I'll need to use the `sqlsearch` tool to fetch the details of the draft from the database. Could you please specify which draft details you are looking for, or should I fetch all available draft details?"
     ]
    },
    {
     "data": {
      "text/markdown": [
       "I'll need to use the `sqlsearch` tool to fetch the details of the draft from the database. Could you please specify which draft details you are looking for, or should I fetch all available draft details?"
      ],
      "text/plain": [
       "<IPython.core.display.Markdown object>"
      ]
     },
     "metadata": {},
     "output_type": "display_data"
    }
   ],
   "source": [
    "printmd(brain_agent_executor.invoke({\"question\": \"sqlsearch Give me all details of draft\"}, \n",
    "                                    config=config)[\"output\"])"
   ]
  },
  {
   "cell_type": "code",
   "execution_count": null,
   "id": "d8724404-c1b4-4570-81fd-d2462efc26ef",
   "metadata": {},
   "outputs": [],
   "source": []
  }
 ],
 "metadata": {
  "kernelspec": {
   "display_name": "venv",
   "language": "python",
   "name": "venv"
  },
  "language_info": {
   "codemirror_mode": {
    "name": "ipython",
    "version": 3
   },
   "file_extension": ".py",
   "mimetype": "text/x-python",
   "name": "python",
   "nbconvert_exporter": "python",
   "pygments_lexer": "ipython3",
   "version": "3.11.4"
  }
 },
 "nbformat": 4,
 "nbformat_minor": 5
}
