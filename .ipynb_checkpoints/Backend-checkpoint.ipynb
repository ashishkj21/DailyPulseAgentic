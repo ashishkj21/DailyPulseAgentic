{
 "cells": [
  {
   "cell_type": "code",
   "execution_count": 1,
   "id": "95c8e1d3-918a-4796-966c-921f6d3569af",
   "metadata": {},
   "outputs": [],
   "source": [
    "import os\n",
    "import random\n",
    "import json\n",
    "import requests\n",
    "from operator import itemgetter\n",
    "from typing import Union, List\n",
    "from langchain_openai import AzureChatOpenAI\n",
    "from langchain.agents import AgentExecutor, Tool, create_openai_tools_agent\n",
    "from langchain_community.chat_message_histories import ChatMessageHistory, CosmosDBChatMessageHistory\n",
    "from langchain.callbacks.manager import CallbackManager\n",
    "from langchain_core.runnables.history import RunnableWithMessageHistory\n",
    "from langchain_core.runnables import ConfigurableFieldSpec, ConfigurableField\n",
    "from langchain_core.prompts import PromptTemplate, ChatPromptTemplate, MessagesPlaceholder\n",
    "from langchain_core.output_parsers import StrOutputParser\n",
    "from langchain.output_parsers import JsonOutputToolsParser\n",
    "from langchain_core.runnables import (\n",
    "    Runnable,\n",
    "    RunnableLambda,\n",
    "    RunnableMap,\n",
    "    RunnablePassthrough,\n",
    ")\n",
    "\n",
    "#custom libraries that we will use later in the app\n",
    "from common.utils import (\n",
    "    SQLSearchAgent\n",
    ")\n",
    "from common.callbacks import StdOutCallbackHandler\n",
    "from common.prompts import CUSTOM_CHATBOT_PROMPT \n",
    "\n",
    "from dotenv import load_dotenv\n",
    "load_dotenv(\"credentials.env\")\n",
    "\n",
    "from IPython.display import Markdown, HTML, display \n",
    "\n",
    "def printmd(string):\n",
    "    display(Markdown(string))"
   ]
  },
  {
   "cell_type": "code",
   "execution_count": 2,
   "id": "cac46bba-95dc-4643-8e8b-b0ca04d2a0e3",
   "metadata": {},
   "outputs": [],
   "source": [
    "cb_handler = StdOutCallbackHandler()\n",
    "cb_manager = CallbackManager(handlers=[cb_handler])\n",
    "\n",
    "COMPLETION_TOKENS = 2000\n",
    "\n",
    "# We can run the everything with GPT3.5, but try also GPT4 and see the difference in the quality of responses\n",
    "# You will notice that GPT3.5 is not as reliable when using multiple sources.\n",
    "\n",
    "# llm = AzureChatOpenAI(deployment_name=os.environ[\"GPT4o_DEPLOYMENT_NAME\"], \n",
    "#                       temperature=0, max_tokens=COMPLETION_TOKENS)\n",
    "\n",
    "# Uncomment below if you want to see the answers streaming\n",
    "llm = AzureChatOpenAI(deployment_name=os.environ[\"GPT4o_DEPLOYMENT_NAME\"], temperature=0, max_tokens=COMPLETION_TOKENS, streaming=True, callback_manager=cb_manager, api_version=\"2024-05-01-preview\")\n",
    "# llm = ChatOllama(model = \"llama3.2:latest\", max_tokens = 128000, temperature=0, callbacks=cb_manager, disable_streaming = False)"
   ]
  },
  {
   "cell_type": "code",
   "execution_count": 3,
   "id": "ed9653da-c2fa-423a-ae6d-2cc642de4f24",
   "metadata": {},
   "outputs": [],
   "source": [
    "sql_search = SQLSearchAgent(llm=llm, k=10, callback_manager=cb_manager,\n",
    "                name=\"sqlsearch\",\n",
    "                description=\"useful when the questions includes the term: sqlsearch\",\n",
    "                verbose=False)"
   ]
  },
  {
   "cell_type": "markdown",
   "id": "c2a8df54-f551-42b3-84ea-66f22c58f107",
   "metadata": {},
   "source": [
    "# Multi Agent"
   ]
  },
  {
   "cell_type": "code",
   "execution_count": 4,
   "id": "c9951305-136a-4f22-9dfc-bdb687a9e4dc",
   "metadata": {},
   "outputs": [],
   "source": [
    "tools = [sql_search]"
   ]
  },
  {
   "cell_type": "code",
   "execution_count": 5,
   "id": "7ab1674c-2433-4944-b901-3c81255adaa8",
   "metadata": {},
   "outputs": [],
   "source": [
    "agent = create_openai_tools_agent(llm, tools, CUSTOM_CHATBOT_PROMPT)"
   ]
  },
  {
   "cell_type": "code",
   "execution_count": 6,
   "id": "5fb70eff-f3ef-4e90-ab50-3397210688b8",
   "metadata": {},
   "outputs": [],
   "source": [
    "agent_executor = AgentExecutor(agent=agent, tools=tools, verbose=False)"
   ]
  },
  {
   "cell_type": "code",
   "execution_count": 7,
   "id": "4c5dce42-aac5-4bda-bd9d-a40dcadd7632",
   "metadata": {},
   "outputs": [],
   "source": [
    "def get_session_history(session_id: str, user_id: str) -> CosmosDBChatMessageHistory:\n",
    "    cosmos = CosmosDBChatMessageHistory(\n",
    "        cosmos_endpoint=os.environ['AZURE_COSMOSDB_ENDPOINT'],\n",
    "        cosmos_database=os.environ['AZURE_COSMOSDB_NAME'],\n",
    "        cosmos_container=os.environ['AZURE_COSMOSDB_CONTAINER_NAME'],\n",
    "        connection_string=os.environ['AZURE_COMOSDB_CONNECTION_STRING'],\n",
    "        session_id=session_id,\n",
    "        user_id=user_id\n",
    "        )\n",
    "\n",
    "    # prepare the cosmosdb instance\n",
    "    cosmos.prepare_cosmos()\n",
    "    return cosmos"
   ]
  },
  {
   "cell_type": "code",
   "execution_count": 8,
   "id": "f0babb39-b581-46ea-883d-ef75180e2a4b",
   "metadata": {},
   "outputs": [],
   "source": [
    "brain_agent_executor = RunnableWithMessageHistory(\n",
    "    agent_executor,\n",
    "    get_session_history,\n",
    "    input_messages_key=\"question\",\n",
    "    history_messages_key=\"history\",\n",
    "    history_factory_config=[\n",
    "        ConfigurableFieldSpec(\n",
    "            id=\"user_id\",\n",
    "            annotation=str,\n",
    "            name=\"User ID\",\n",
    "            description=\"Unique identifier for the user.\",\n",
    "            default=\"\",\n",
    "            is_shared=True,\n",
    "        ),\n",
    "        ConfigurableFieldSpec(\n",
    "            id=\"session_id\",\n",
    "            annotation=str,\n",
    "            name=\"Session ID\",\n",
    "            description=\"Unique identifier for the conversation.\",\n",
    "            default=\"\",\n",
    "            is_shared=True,\n",
    "        ),\n",
    "    ],\n",
    ")"
   ]
  },
  {
   "cell_type": "code",
   "execution_count": 9,
   "id": "bf54b6b5-3013-468a-b835-b5c16d64329f",
   "metadata": {},
   "outputs": [
    {
     "name": "stdout",
     "output_type": "stream",
     "text": [
      "session357 user525\n"
     ]
    }
   ],
   "source": [
    "# This is where we configure the session id and user id\n",
    "random_session_id = \"session\"+ str(random.randint(1, 1000))\n",
    "ramdom_user_id = \"user\"+ str(random.randint(1, 1000))\n",
    "\n",
    "# random_session_id = \"session428\" \n",
    "# ramdom_user_id = \"user325\"\n",
    "config={\"configurable\": {\"session_id\": random_session_id, \"user_id\": ramdom_user_id}}\n",
    "print(random_session_id, ramdom_user_id)"
   ]
  },
  {
   "cell_type": "markdown",
   "id": "56cf10e6-0084-460a-8172-a4fd67370668",
   "metadata": {},
   "source": [
    "# Test"
   ]
  },
  {
   "cell_type": "code",
   "execution_count": null,
   "id": "41bdf8d6-0473-4eb9-a03b-553b01625188",
   "metadata": {},
   "outputs": [
    {
     "name": "stdin",
     "output_type": "stream",
     "text": [
      "Enter your question (or type 'exit' to quit):  Hi\n"
     ]
    },
    {
     "name": "stdout",
     "output_type": "stream",
     "text": [
      "Good morning! Ready for a productive day ahead? Let's get started with your daily standup update! Are you ready to provide your update for today?"
     ]
    },
    {
     "data": {
      "text/markdown": [
       "Good morning! Ready for a productive day ahead? Let's get started with your daily standup update! Are you ready to provide your update for today?"
      ],
      "text/plain": [
       "<IPython.core.display.Markdown object>"
      ]
     },
     "metadata": {},
     "output_type": "display_data"
    },
    {
     "name": "stdin",
     "output_type": "stream",
     "text": [
      "Enter your question (or type 'exit' to quit):  Yes I am ready\n"
     ]
    },
    {
     "name": "stdout",
     "output_type": "stream",
     "text": [
      "Great! Let's draft your standup update based on your recent GitHub activities. Here's a summary:\n",
      "\n",
      "### Accomplishments:\n",
      "- Successfully closed the pull request for \"Negative first response prompt working\" in the DailyPulseAgentic repository.\n",
      "- Integrated the git tool as a separate file and merged the changes.\n",
      "\n",
      "### Plans:\n",
      "- Continue development on the DailyPulseAgentic project, possibly addressing any feedback or new issues that arise.\n",
      "\n",
      "### Blockers:\n",
      "- No current blockers reported.\n",
      "\n",
      "Does this draft look good to you, or would you like to make any edits or additions?"
     ]
    },
    {
     "data": {
      "text/markdown": [
       "Great! Let's draft your standup update based on your recent GitHub activities. Here's a summary:\n",
       "\n",
       "### Accomplishments:\n",
       "- Successfully closed the pull request for \"Negative first response prompt working\" in the DailyPulseAgentic repository.\n",
       "- Integrated the git tool as a separate file and merged the changes.\n",
       "\n",
       "### Plans:\n",
       "- Continue development on the DailyPulseAgentic project, possibly addressing any feedback or new issues that arise.\n",
       "\n",
       "### Blockers:\n",
       "- No current blockers reported.\n",
       "\n",
       "Does this draft look good to you, or would you like to make any edits or additions?"
      ],
      "text/plain": [
       "<IPython.core.display.Markdown object>"
      ]
     },
     "metadata": {},
     "output_type": "display_data"
    },
    {
     "name": "stdin",
     "output_type": "stream",
     "text": [
      "Enter your question (or type 'exit' to quit):  Looks perfect\n"
     ]
    },
    {
     "name": "stdout",
     "output_type": "stream",
     "text": [
      "Fantastic! Before we finalize, I just want to confirm a few details to ensure we have a complete and accurate update:\n",
      "\n",
      "1. Have you encountered any new challenges or need any specific support after closing the recent pull requests?\n",
      "2. Are there any specific tasks you're planning to tackle next in the DailyPulseAgentic project?\n",
      "3. Is there any follow-up required for the database setup issue in the DailyPulseFastAPI project mentioned on January 9th?\n",
      "\n",
      "Please let me know if there's anything else you'd like to add or clarify!"
     ]
    },
    {
     "data": {
      "text/markdown": [
       "Fantastic! Before we finalize, I just want to confirm a few details to ensure we have a complete and accurate update:\n",
       "\n",
       "1. Have you encountered any new challenges or need any specific support after closing the recent pull requests?\n",
       "2. Are there any specific tasks you're planning to tackle next in the DailyPulseAgentic project?\n",
       "3. Is there any follow-up required for the database setup issue in the DailyPulseFastAPI project mentioned on January 9th?\n",
       "\n",
       "Please let me know if there's anything else you'd like to add or clarify!"
      ],
      "text/plain": [
       "<IPython.core.display.Markdown object>"
      ]
     },
     "metadata": {},
     "output_type": "display_data"
    },
    {
     "name": "stdin",
     "output_type": "stream",
     "text": [
      "Enter your question (or type 'exit' to quit):  1. No, the recent prs were completed without any difficulties. 2. I am planning on shifitng the entire tool to a web based interface. 3.The database setup is complete\n"
     ]
    },
    {
     "name": "stdout",
     "output_type": "stream",
     "text": [
      "Thank you for the updates! Here's the refined draft of your standup update:\n",
      "\n",
      "### Accomplishments:\n",
      "- Successfully closed the pull request for \"Negative first response prompt working\" in the DailyPulseAgentic repository.\n",
      "- Integrated the git tool as a separate file and merged the changes.\n",
      "- Completed the database setup for the DailyPulseFastAPI project.\n",
      "\n",
      "### Plans:\n",
      "- Continue development on the DailyPulseAgentic project, with a focus on transitioning the tool to a web-based interface.\n",
      "\n",
      "### Blockers:\n",
      "- No current blockers reported.\n",
      "\n",
      "Does this updated draft meet your satisfaction, and are you ready to submit it?"
     ]
    },
    {
     "data": {
      "text/markdown": [
       "Thank you for the updates! Here's the refined draft of your standup update:\n",
       "\n",
       "### Accomplishments:\n",
       "- Successfully closed the pull request for \"Negative first response prompt working\" in the DailyPulseAgentic repository.\n",
       "- Integrated the git tool as a separate file and merged the changes.\n",
       "- Completed the database setup for the DailyPulseFastAPI project.\n",
       "\n",
       "### Plans:\n",
       "- Continue development on the DailyPulseAgentic project, with a focus on transitioning the tool to a web-based interface.\n",
       "\n",
       "### Blockers:\n",
       "- No current blockers reported.\n",
       "\n",
       "Does this updated draft meet your satisfaction, and are you ready to submit it?"
      ],
      "text/plain": [
       "<IPython.core.display.Markdown object>"
      ]
     },
     "metadata": {},
     "output_type": "display_data"
    },
    {
     "name": "stdin",
     "output_type": "stream",
     "text": [
      "Enter your question (or type 'exit' to quit):  I do have a current blocker, notifications still not being sent via slack\n"
     ]
    },
    {
     "name": "stdout",
     "output_type": "stream",
     "text": [
      "Thank you for mentioning that. I'll update the draft to include this blocker.\n",
      "\n",
      "### Accomplishments:\n",
      "- Successfully closed the pull request for \"Negative first response prompt working\" in the DailyPulseAgentic repository.\n",
      "- Integrated the git tool as a separate file and merged the changes.\n",
      "- Completed the database setup for the DailyPulseFastAPI project.\n",
      "\n",
      "### Plans:\n",
      "- Continue development on the DailyPulseAgentic project, with a focus on transitioning the tool to a web-based interface.\n",
      "\n",
      "### Blockers:\n",
      "- Notifications are not being sent via Slack, which needs resolution.\n",
      "\n",
      "Please confirm if this revised draft is ready for submission, or if there's anything else you'd like to adjust."
     ]
    },
    {
     "data": {
      "text/markdown": [
       "Thank you for mentioning that. I'll update the draft to include this blocker.\n",
       "\n",
       "### Accomplishments:\n",
       "- Successfully closed the pull request for \"Negative first response prompt working\" in the DailyPulseAgentic repository.\n",
       "- Integrated the git tool as a separate file and merged the changes.\n",
       "- Completed the database setup for the DailyPulseFastAPI project.\n",
       "\n",
       "### Plans:\n",
       "- Continue development on the DailyPulseAgentic project, with a focus on transitioning the tool to a web-based interface.\n",
       "\n",
       "### Blockers:\n",
       "- Notifications are not being sent via Slack, which needs resolution.\n",
       "\n",
       "Please confirm if this revised draft is ready for submission, or if there's anything else you'd like to adjust."
      ],
      "text/plain": [
       "<IPython.core.display.Markdown object>"
      ]
     },
     "metadata": {},
     "output_type": "display_data"
    },
    {
     "name": "stdin",
     "output_type": "stream",
     "text": [
      "Enter your question (or type 'exit' to quit):  Yes, i am ready to submit\n"
     ]
    },
    {
     "name": "stdout",
     "output_type": "stream",
     "text": [
      "Tool: sqlsearch\n",
      "Agent Action: \n",
      "Invoking: `sql_db_list_tables` with `{}`\n",
      "\n",
      "\n",
      "\n",
      "It appears that the table you are trying to insert data into, `standup_updates`, does not exist in the database. The available table is `dailypulse`. Let's correct the table name and proceed with the insertion.\n",
      "\n",
      "Here's the corrected insertion query:\n",
      "\n",
      "```sql\n",
      "INSERT INTO dailypulse (username, accomplishment, todo, blocker, date)\n",
      "VALUES ('ashishkj21', 'Successfully closed the pull request for \"Negative first response prompt working\" in the DailyPulseAgentic repository. Integrated the git tool as a separate file and merged the changes. Completed the database setup for the DailyPulseFastAPI project.', 'Continue development on the DailyPulseAgentic project, with a focus on transitioning the tool to a web-based interface.', 'Notifications are not being sent via Slack, which needs resolution.', '2025-01-11');\n",
      "```\n",
      "\n",
      "I will now execute this corrected query.Agent Action: \n",
      "Invoking: `sql_db_query_checker` with `{'query': 'INSERT INTO dailypulse (username, accomplishment, todo, blocker, date) VALUES (\\'ashishkj21\\', \\'Successfully closed the pull request for \"Negative first response prompt working\" in the DailyPulseAgentic repository. Integrated the git tool as a separate file and merged the changes. Completed the database setup for the DailyPulseFastAPI project.\\', \\'Continue development on the DailyPulseAgentic project, with a focus on transitioning the tool to a web-based interface.\\', \\'Notifications are not being sent via Slack, which needs resolution.\\', \\'2025-01-11\\');'}`\n",
      "responded: It appears that the table you are trying to insert data into, `standup_updates`, does not exist in the database. The available table is `dailypulse`. Let's correct the table name and proceed with the insertion.\n",
      "\n",
      "Here's the corrected insertion query:\n",
      "\n",
      "```sql\n",
      "INSERT INTO dailypulse (username, accomplishment, todo, blocker, date)\n",
      "VALUES ('ashishkj21', 'Successfully closed the pull request for \"Negative first response prompt working\" in the DailyPulseAgentic repository. Integrated the git tool as a separate file and merged the changes. Completed the database setup for the DailyPulseFastAPI project.', 'Continue development on the DailyPulseAgentic project, with a focus on transitioning the tool to a web-based interface.', 'Notifications are not being sent via Slack, which needs resolution.', '2025-01-11');\n",
      "```\n",
      "\n",
      "I will now execute this corrected query.\n",
      "\n",
      "\n",
      "INSERT INTO dailypulse (username, accomplishment, todo, blocker, date) VALUES ('ashishkj21', 'Successfully closed the pull request for \"Negative first response prompt working\" in the DailyPulseAgentic repository. Integrated the git tool as a separate file and merged the changes. Completed the database setup for the DailyPulseFastAPI project.', 'Continue development on the DailyPulseAgentic project, with a focus on transitioning the tool to a web-based interface.', 'Notifications are not being sent via Slack, which needs resolution.', '2025-01-11');Agent Action: \n",
      "Invoking: `sql_db_query` with `{'query': 'INSERT INTO dailypulse (username, accomplishment, todo, blocker, date) VALUES (\\'ashishkj21\\', \\'Successfully closed the pull request for \"Negative first response prompt working\" in the DailyPulseAgentic repository. Integrated the git tool as a separate file and merged the changes. Completed the database setup for the DailyPulseFastAPI project.\\', \\'Continue development on the DailyPulseAgentic project, with a focus on transitioning the tool to a web-based interface.\\', \\'Notifications are not being sent via Slack, which needs resolution.\\', \\'2025-01-11\\');'}`\n",
      "\n",
      "\n",
      "\n",
      "The data has been successfully inserted into the `dailypulse` table with the following details:\n",
      "- **Username:** ashishkj21\n",
      "- **Accomplishment:** Successfully closed the pull request for \"Negative first response prompt working\" in the DailyPulseAgentic repository. Integrated the git tool as a separate file and merged the changes. Completed the database setup for the DailyPulseFastAPI project.\n",
      "- **To Do:** Continue development on the DailyPulseAgentic project, with a focus on transitioning the tool to a web-based interface.\n",
      "- **Blocker:** Notifications are not being sent via Slack, which needs resolution.\n",
      "- **Date:** 2025-01-11\n",
      "\n",
      "If you need any further assistance or another query, feel free to ask!"
     ]
    }
   ],
   "source": [
    "from datetime import datetime, timedelta\n",
    "today = datetime.now().date()\n",
    "yesterday = today - timedelta(days=1)\n",
    "day_before_yesterday = today - timedelta(days=2)\n",
    "\n",
    "# Format dates as strings\n",
    "target_date_8 = day_before_yesterday.strftime(\"%Y-%m-%d\")\n",
    "target_date_9 = yesterday.strftime(\"%Y-%m-%d\")\n",
    "target_date_today = today.strftime(\"%Y-%m-%d\")\n",
    "def chat_with_agent():\n",
    "    while True:\n",
    "        question = input(\"Enter your question (or type 'exit' to quit): \")\n",
    "        if question.lower() == \"exit\":\n",
    "            print(\"Goodbye!\")\n",
    "            break\n",
    "        # Add the required variables to the input\n",
    "        input_data = {\n",
    "            \"question\": question,\n",
    "            \"target_date_today\":target_date_today,\n",
    "            \"target_date_9\": target_date_9, \n",
    "            \"target_date_8\": target_date_8, \n",
    "            \"history\": [],  # Assuming you have a way to manage conversation history\n",
    "            \"agent_scratchpad\": []  # Assuming you have a way to manage agent scratchpad\n",
    "        }\n",
    "        response = brain_agent_executor.invoke(input_data, config=config)[\"output\"]\n",
    "        printmd(response)\n",
    "\n",
    "# Run the chat function\n",
    "chat_with_agent()"
   ]
  },
  {
   "cell_type": "markdown",
   "id": "01c53caf-443b-47af-931d-df450f229662",
   "metadata": {},
   "source": [
    "# Sample with Positive prompt"
   ]
  },
  {
   "cell_type": "code",
   "execution_count": 11,
   "id": "3dfb78c1-455b-46e5-8ee3-27fd41eeeba1",
   "metadata": {},
   "outputs": [
    {
     "name": "stdin",
     "output_type": "stream",
     "text": [
      "Enter your question (or type 'exit' to quit):  Hi\n"
     ]
    },
    {
     "name": "stdout",
     "output_type": "stream",
     "text": [
      "Hello! I hope you're having a great day so far. Are you ready to dive into your daily standup update, or is there something else I can assist you with today?"
     ]
    },
    {
     "data": {
      "text/markdown": [
       "Hello! I hope you're having a great day so far. Are you ready to dive into your daily standup update, or is there something else I can assist you with today?"
      ],
      "text/plain": [
       "<IPython.core.display.Markdown object>"
      ]
     },
     "metadata": {},
     "output_type": "display_data"
    },
    {
     "name": "stdin",
     "output_type": "stream",
     "text": [
      "Enter your question (or type 'exit' to quit):  Yes\n"
     ]
    },
    {
     "name": "stdout",
     "output_type": "stream",
     "text": [
      "Fantastic! Let's get started with your daily standup update. Based on your GitHub activity from the past 24 hours, here's a draft of your update:\n",
      "\n",
      "### Accomplishments:\n",
      "- **Direct Message Functionality**: Successfully implemented and tested the direct message functionality, which is now working as expected.\n",
      "- **Memory Storage Update**: Transitioned the storage of memory from a local JSON file to a database, enhancing the project's scalability and reliability.\n",
      "\n",
      "### Plans:\n",
      "- **Database Setup**: Complete the database setup for the codebase to ensure all functionalities are fully operational and integrated.\n",
      "\n",
      "### Blockers:\n",
      "- **Database Setup**: The setup for the database is not yet complete, which might delay further integration and testing of features that rely on database operations.\n",
      "\n",
      "Please review this draft. Would you like to make any changes or add more details?"
     ]
    },
    {
     "data": {
      "text/markdown": [
       "Fantastic! Let's get started with your daily standup update. Based on your GitHub activity from the past 24 hours, here's a draft of your update:\n",
       "\n",
       "### Accomplishments:\n",
       "- **Direct Message Functionality**: Successfully implemented and tested the direct message functionality, which is now working as expected.\n",
       "- **Memory Storage Update**: Transitioned the storage of memory from a local JSON file to a database, enhancing the project's scalability and reliability.\n",
       "\n",
       "### Plans:\n",
       "- **Database Setup**: Complete the database setup for the codebase to ensure all functionalities are fully operational and integrated.\n",
       "\n",
       "### Blockers:\n",
       "- **Database Setup**: The setup for the database is not yet complete, which might delay further integration and testing of features that rely on database operations.\n",
       "\n",
       "Please review this draft. Would you like to make any changes or add more details?"
      ],
      "text/plain": [
       "<IPython.core.display.Markdown object>"
      ]
     },
     "metadata": {},
     "output_type": "display_data"
    },
    {
     "name": "stdin",
     "output_type": "stream",
     "text": [
      "Enter your question (or type 'exit' to quit):  This looks good\n"
     ]
    },
    {
     "name": "stdout",
     "output_type": "stream",
     "text": [
      "Great to hear that it looks good! I'll go ahead and submit this update for you.\n",
      "\n",
      "Just to confirm, here's the final version of your standup update:\n",
      "\n",
      "### Accomplishments:\n",
      "- **Direct Message Functionality**: Successfully implemented and tested the direct message functionality, which is now working as expected.\n",
      "- **Memory Storage Update**: Transitioned the storage of memory from a local JSON file to a database, enhancing the project's scalability and reliability.\n",
      "\n",
      "### Plans:\n",
      "- **Database Setup**: Complete the database setup for the codebase to ensure all functionalities are fully operational and integrated.\n",
      "\n",
      "### Blockers:\n",
      "- **Database Setup**: The setup for the database is not yet complete, which might delay further integration and testing of features that rely on database operations.\n",
      "\n",
      "If everything looks good, I'll submit it now."
     ]
    },
    {
     "data": {
      "text/markdown": [
       "Great to hear that it looks good! I'll go ahead and submit this update for you.\n",
       "\n",
       "Just to confirm, here's the final version of your standup update:\n",
       "\n",
       "### Accomplishments:\n",
       "- **Direct Message Functionality**: Successfully implemented and tested the direct message functionality, which is now working as expected.\n",
       "- **Memory Storage Update**: Transitioned the storage of memory from a local JSON file to a database, enhancing the project's scalability and reliability.\n",
       "\n",
       "### Plans:\n",
       "- **Database Setup**: Complete the database setup for the codebase to ensure all functionalities are fully operational and integrated.\n",
       "\n",
       "### Blockers:\n",
       "- **Database Setup**: The setup for the database is not yet complete, which might delay further integration and testing of features that rely on database operations.\n",
       "\n",
       "If everything looks good, I'll submit it now."
      ],
      "text/plain": [
       "<IPython.core.display.Markdown object>"
      ]
     },
     "metadata": {},
     "output_type": "display_data"
    },
    {
     "name": "stdin",
     "output_type": "stream",
     "text": [
      "Enter your question (or type 'exit' to quit):  Submit it \n"
     ]
    },
    {
     "name": "stdout",
     "output_type": "stream",
     "text": [
      "Tool: sqlsearch\n",
      "Agent Action: \n",
      "Invoking: `sql_db_list_tables` with `{}`\n",
      "\n",
      "\n",
      "\n",
      "It appears that the table you are trying to insert data into, `standup_updates`, does not exist in the database. The available table is `dailypulse`. Let me correct the table name and proceed with the insertion.\n",
      "\n",
      "Here's the corrected insertion query:\n",
      "\n",
      "```sql\n",
      "INSERT INTO dailypulse (username, accomplishment, todo, blocker, date)\n",
      "VALUES ('ashishkj21', 'Direct Message Functionality: Successfully implemented and tested. Memory Storage Update: Transitioned storage from local JSON to database.', 'Complete the database setup for the codebase.', 'Database setup not complete, may delay further integration and testing.', '2025-01-10');\n",
      "```\n",
      "\n",
      "I will now execute this corrected query.Agent Action: \n",
      "Invoking: `sql_db_query` with `{'query': \"INSERT INTO dailypulse (username, accomplishment, todo, blocker, date) VALUES ('ashishkj21', 'Direct Message Functionality: Successfully implemented and tested. Memory Storage Update: Transitioned storage from local JSON to database.', 'Complete the database setup for the codebase.', 'Database setup not complete, may delay further integration and testing.', '2025-01-10');\"}`\n",
      "responded: It appears that the table you are trying to insert data into, `standup_updates`, does not exist in the database. The available table is `dailypulse`. Let me correct the table name and proceed with the insertion.\n",
      "\n",
      "Here's the corrected insertion query:\n",
      "\n",
      "```sql\n",
      "INSERT INTO dailypulse (username, accomplishment, todo, blocker, date)\n",
      "VALUES ('ashishkj21', 'Direct Message Functionality: Successfully implemented and tested. Memory Storage Update: Transitioned storage from local JSON to database.', 'Complete the database setup for the codebase.', 'Database setup not complete, may delay further integration and testing.', '2025-01-10');\n",
      "```\n",
      "\n",
      "I will now execute this corrected query.\n",
      "\n",
      "\n",
      "The data has been successfully inserted into the `dailypulse` table. If you have any more updates or queries, feel free to let me know!Your standup update has been successfully submitted! If there's anything else you need help with or any other updates you'd like to make, just let me know. Have a great day ahead!"
     ]
    },
    {
     "data": {
      "text/markdown": [
       "Your standup update has been successfully submitted! If there's anything else you need help with or any other updates you'd like to make, just let me know. Have a great day ahead!"
      ],
      "text/plain": [
       "<IPython.core.display.Markdown object>"
      ]
     },
     "metadata": {},
     "output_type": "display_data"
    },
    {
     "name": "stdin",
     "output_type": "stream",
     "text": [
      "Enter your question (or type 'exit' to quit):  exit\n"
     ]
    },
    {
     "name": "stdout",
     "output_type": "stream",
     "text": [
      "Goodbye!\n"
     ]
    }
   ],
   "source": [
    "def chat_with_agent():  \n",
    "    while True:  \n",
    "        question = input(\"Enter your question (or type 'exit' to quit): \")  \n",
    "        if question.lower() == \"exit\":  \n",
    "            print(\"Goodbye!\")  \n",
    "            break  \n",
    "        response = brain_agent_executor.invoke({\"question\": question}, config=config)[\"output\"]  \n",
    "        printmd(response)  \n",
    "  \n",
    "# Run the chat function  \n",
    "chat_with_agent()  "
   ]
  },
  {
   "cell_type": "markdown",
   "id": "da7ff0e1-c3b6-4e19-9dfe-bd700dfd5dc5",
   "metadata": {},
   "source": [
    "# Sample with negative prompt"
   ]
  },
  {
   "cell_type": "code",
   "execution_count": 10,
   "id": "6a782dc8-5d08-4711-9914-19f8b7f04a06",
   "metadata": {},
   "outputs": [
    {
     "name": "stdin",
     "output_type": "stream",
     "text": [
      "Enter your question (or type 'exit' to quit):  Hi\n"
     ]
    },
    {
     "name": "stdout",
     "output_type": "stream",
     "text": [
      "Good morning! Ready for a productive day ahead? Let's get started with your daily standup update! Are you ready to provide your update for today?"
     ]
    },
    {
     "data": {
      "text/markdown": [
       "Good morning! Ready for a productive day ahead? Let's get started with your daily standup update! Are you ready to provide your update for today?"
      ],
      "text/plain": [
       "<IPython.core.display.Markdown object>"
      ]
     },
     "metadata": {},
     "output_type": "display_data"
    },
    {
     "name": "stdin",
     "output_type": "stream",
     "text": [
      "Enter your question (or type 'exit' to quit):  No\n"
     ]
    },
    {
     "name": "stdout",
     "output_type": "stream",
     "text": [
      "That's perfectly fine! Whenever you're ready to provide your update, just let me know. In the meantime, feel free to ask me anything else you might need assistance with. I'm here to help!"
     ]
    },
    {
     "data": {
      "text/markdown": [
       "That's perfectly fine! Whenever you're ready to provide your update, just let me know. In the meantime, feel free to ask me anything else you might need assistance with. I'm here to help!"
      ],
      "text/plain": [
       "<IPython.core.display.Markdown object>"
      ]
     },
     "metadata": {},
     "output_type": "display_data"
    },
    {
     "name": "stdin",
     "output_type": "stream",
     "text": [
      "Enter your question (or type 'exit' to quit):  I am now ready\n"
     ]
    },
    {
     "name": "stdout",
     "output_type": "stream",
     "text": [
      "Great! Let's dive into your standup update. Based on your GitHub activity from the past 24 hours, here's a draft of your update:\n",
      "\n",
      "### Accomplishments:\n",
      "- **Direct Message Functionality**: Successfully implemented and tested the direct message functionality, which is now working as expected.\n",
      "- **Memory Storage Update**: Transitioned the storage of memory from a local JSON file to a database, enhancing the project's scalability and reliability.\n",
      "\n",
      "### Plans:\n",
      "- **Database Setup**: Complete the database setup for the codebase to ensure all functionalities are fully operational and integrated.\n",
      "\n",
      "### Blockers:\n",
      "- **Database Setup**: The setup for the database is not yet complete, which might delay further integration and testing of features that rely on database operations.\n",
      "\n",
      "Please review this draft. Would you like to make any changes or add more details?"
     ]
    },
    {
     "data": {
      "text/markdown": [
       "Great! Let's dive into your standup update. Based on your GitHub activity from the past 24 hours, here's a draft of your update:\n",
       "\n",
       "### Accomplishments:\n",
       "- **Direct Message Functionality**: Successfully implemented and tested the direct message functionality, which is now working as expected.\n",
       "- **Memory Storage Update**: Transitioned the storage of memory from a local JSON file to a database, enhancing the project's scalability and reliability.\n",
       "\n",
       "### Plans:\n",
       "- **Database Setup**: Complete the database setup for the codebase to ensure all functionalities are fully operational and integrated.\n",
       "\n",
       "### Blockers:\n",
       "- **Database Setup**: The setup for the database is not yet complete, which might delay further integration and testing of features that rely on database operations.\n",
       "\n",
       "Please review this draft. Would you like to make any changes or add more details?"
      ],
      "text/plain": [
       "<IPython.core.display.Markdown object>"
      ]
     },
     "metadata": {},
     "output_type": "display_data"
    },
    {
     "name": "stdin",
     "output_type": "stream",
     "text": [
      "Enter your question (or type 'exit' to quit):  No this looks good\n"
     ]
    },
    {
     "name": "stdout",
     "output_type": "stream",
     "text": [
      "Fantastic! I'll go ahead and submit this update for you.\n",
      "\n",
      "Just to confirm, here's the final version of your standup update:\n",
      "\n",
      "### Accomplishments:\n",
      "- **Direct Message Functionality**: Successfully implemented and tested the direct message functionality, which is now working as expected.\n",
      "- **Memory Storage Update**: Transitioned the storage of memory from a local JSON file to a database, enhancing the project's scalability and reliability.\n",
      "\n",
      "### Plans:\n",
      "- **Database Setup**: Complete the database setup for the codebase to ensure all functionalities are fully operational and integrated.\n",
      "\n",
      "### Blockers:\n",
      "- **Database Setup**: The setup for the database is not yet complete, which might delay further integration and testing of features that rely on database operations.\n",
      "\n",
      "If everything looks good, I'll submit it now."
     ]
    },
    {
     "data": {
      "text/markdown": [
       "Fantastic! I'll go ahead and submit this update for you.\n",
       "\n",
       "Just to confirm, here's the final version of your standup update:\n",
       "\n",
       "### Accomplishments:\n",
       "- **Direct Message Functionality**: Successfully implemented and tested the direct message functionality, which is now working as expected.\n",
       "- **Memory Storage Update**: Transitioned the storage of memory from a local JSON file to a database, enhancing the project's scalability and reliability.\n",
       "\n",
       "### Plans:\n",
       "- **Database Setup**: Complete the database setup for the codebase to ensure all functionalities are fully operational and integrated.\n",
       "\n",
       "### Blockers:\n",
       "- **Database Setup**: The setup for the database is not yet complete, which might delay further integration and testing of features that rely on database operations.\n",
       "\n",
       "If everything looks good, I'll submit it now."
      ],
      "text/plain": [
       "<IPython.core.display.Markdown object>"
      ]
     },
     "metadata": {},
     "output_type": "display_data"
    },
    {
     "name": "stdin",
     "output_type": "stream",
     "text": [
      "Enter your question (or type 'exit' to quit):  Submit it\n"
     ]
    },
    {
     "name": "stdout",
     "output_type": "stream",
     "text": [
      "Tool: sqlsearch\n",
      "Agent Action: \n",
      "Invoking: `sql_db_list_tables` with `{}`\n",
      "\n",
      "\n",
      "\n",
      "It appears that the table you are trying to insert data into is named `dailypulse`, not `standup_updates`. Let's correct the table name and proceed with the insertion. Here's the corrected SQL query:\n",
      "\n",
      "```sql\n",
      "INSERT INTO dailypulse (username, accomplishment, todo, blocker, date)\n",
      "VALUES ('ashishkj21', 'Direct Message Functionality: Successfully implemented and tested the direct message functionality, which is now working as expected. Memory Storage Update: Transitioned the storage of memory from a local JSON file to a database, enhancing the project scalability and reliability.', 'Database Setup: Complete the database setup for the codebase to ensure all functionalities are fully operational and integrated.', 'Database Setup: The setup for the database is not yet complete, which might delay further integration and testing of features that rely on database operations.', '2025-01-09');\n",
      "```\n",
      "\n",
      "I will now execute this corrected query.Agent Action: \n",
      "Invoking: `sql_db_query_checker` with `{'query': \"INSERT INTO dailypulse (username, accomplishment, todo, blocker, date) VALUES ('ashishkj21', 'Direct Message Functionality: Successfully implemented and tested the direct message functionality, which is now working as expected. Memory Storage Update: Transitioned the storage of memory from a local JSON file to a database, enhancing the project scalability and reliability.', 'Database Setup: Complete the database setup for the codebase to ensure all functionalities are fully operational and integrated.', 'Database Setup: The setup for the database is not yet complete, which might delay further integration and testing of features that rely on database operations.', '2025-01-09');\"}`\n",
      "responded: It appears that the table you are trying to insert data into is named `dailypulse`, not `standup_updates`. Let's correct the table name and proceed with the insertion. Here's the corrected SQL query:\n",
      "\n",
      "```sql\n",
      "INSERT INTO dailypulse (username, accomplishment, todo, blocker, date)\n",
      "VALUES ('ashishkj21', 'Direct Message Functionality: Successfully implemented and tested the direct message functionality, which is now working as expected. Memory Storage Update: Transitioned the storage of memory from a local JSON file to a database, enhancing the project scalability and reliability.', 'Database Setup: Complete the database setup for the codebase to ensure all functionalities are fully operational and integrated.', 'Database Setup: The setup for the database is not yet complete, which might delay further integration and testing of features that rely on database operations.', '2025-01-09');\n",
      "```\n",
      "\n",
      "I will now execute this corrected query.\n",
      "\n",
      "\n",
      "INSERT INTO dailypulse (username, accomplishment, todo, blocker, date) VALUES ('ashishkj21', 'Direct Message Functionality: Successfully implemented and tested the direct message functionality, which is now working as expected. Memory Storage Update: Transitioned the storage of memory from a local JSON file to a database, enhancing the project scalability and reliability.', 'Database Setup: Complete the database setup for the codebase to ensure all functionalities are fully operational and integrated.', 'Database Setup: The setup for the database is not yet complete, which might delay further integration and testing of features that rely on database operations.', '2025-01-09');Agent Action: \n",
      "Invoking: `sql_db_query` with `{'query': \"INSERT INTO dailypulse (username, accomplishment, todo, blocker, date) VALUES ('ashishkj21', 'Direct Message Functionality: Successfully implemented and tested the direct message functionality, which is now working as expected. Memory Storage Update: Transitioned the storage of memory from a local JSON file to a database, enhancing the project scalability and reliability.', 'Database Setup: Complete the database setup for the codebase to ensure all functionalities are fully operational and integrated.', 'Database Setup: The setup for the database is not yet complete, which might delay further integration and testing of features that rely on database operations.', '2025-01-09');\"}`\n",
      "\n",
      "\n",
      "\n",
      "The data has been successfully inserted into the `dailypulse` table with the following details:\n",
      "- **Username:** ashishkj21\n",
      "- **Accomplishment:** Direct Message Functionality: Successfully implemented and tested the direct message functionality, which is now working as expected. Memory Storage Update: Transitioned the storage of memory from a local JSON file to a database, enhancing the project scalability and reliability.\n",
      "- **To Do:** Database Setup: Complete the database setup for the codebase to ensure all functionalities are fully operational and integrated.\n",
      "- **Blocker:** Database Setup: The setup for the database is not yet complete, which might delay further integration and testing of features that rely on database operations.\n",
      "- **Date:** 2025-01-09\n",
      "\n",
      "If you need any further assistance or another query, feel free to ask!Your standup update has been successfully submitted! If there's anything else you need help with or any other updates you'd like to make, just let me know. Have a great day ahead!"
     ]
    },
    {
     "data": {
      "text/markdown": [
       "Your standup update has been successfully submitted! If there's anything else you need help with or any other updates you'd like to make, just let me know. Have a great day ahead!"
      ],
      "text/plain": [
       "<IPython.core.display.Markdown object>"
      ]
     },
     "metadata": {},
     "output_type": "display_data"
    },
    {
     "name": "stdin",
     "output_type": "stream",
     "text": [
      "Enter your question (or type 'exit' to quit):  Thats all for now, thank you!\n"
     ]
    },
    {
     "name": "stdout",
     "output_type": "stream",
     "text": [
      "You're welcome! If you ever need assistance again, don't hesitate to reach out. Have a wonderful day!"
     ]
    },
    {
     "data": {
      "text/markdown": [
       "You're welcome! If you ever need assistance again, don't hesitate to reach out. Have a wonderful day!"
      ],
      "text/plain": [
       "<IPython.core.display.Markdown object>"
      ]
     },
     "metadata": {},
     "output_type": "display_data"
    },
    {
     "name": "stdin",
     "output_type": "stream",
     "text": [
      "Enter your question (or type 'exit' to quit):  exit\n"
     ]
    },
    {
     "name": "stdout",
     "output_type": "stream",
     "text": [
      "Goodbye!\n"
     ]
    }
   ],
   "source": [
    "def chat_with_agent():  \n",
    "    while True:  \n",
    "        question = input(\"Enter your question (or type 'exit' to quit): \")  \n",
    "        if question.lower() == \"exit\":  \n",
    "            print(\"Goodbye!\")  \n",
    "            break  \n",
    "        response = brain_agent_executor.invoke({\"question\": question}, config=config)[\"output\"]  \n",
    "        printmd(response)  \n",
    "  \n",
    "# Run the chat function  \n",
    "chat_with_agent()  "
   ]
  },
  {
   "cell_type": "markdown",
   "id": "5359d20f-74ef-489c-8f1c-9559640bde9c",
   "metadata": {},
   "source": []
  },
  {
   "cell_type": "code",
   "execution_count": null,
   "id": "6248ee7e-9100-4420-9ffc-8b877aa39f78",
   "metadata": {},
   "outputs": [],
   "source": []
  },
  {
   "cell_type": "markdown",
   "id": "e1d966cc-0250-46b6-990e-43d3ea241a4d",
   "metadata": {},
   "source": [
    "# Further Testing"
   ]
  },
  {
   "cell_type": "code",
   "execution_count": 10,
   "id": "fd58f560-30b0-4594-872f-fa19aa110383",
   "metadata": {},
   "outputs": [
    {
     "name": "stdout",
     "output_type": "stream",
     "text": [
      "Good morning! Ready for a productive day ahead? Let's get started with your daily standup update! Are you ready to provide your update now, or is there something else you'd like to discuss first?"
     ]
    },
    {
     "data": {
      "text/markdown": [
       "Good morning! Ready for a productive day ahead? Let's get started with your daily standup update! Are you ready to provide your update now, or is there something else you'd like to discuss first?"
      ],
      "text/plain": [
       "<IPython.core.display.Markdown object>"
      ]
     },
     "metadata": {},
     "output_type": "display_data"
    }
   ],
   "source": [
    "printmd(brain_agent_executor.invoke({\"question\": \"Hi\"}, \n",
    "                                    config=config)[\"output\"])"
   ]
  },
  {
   "cell_type": "code",
   "execution_count": 11,
   "id": "3738811f-2f6e-451e-9ae7-d447af19142d",
   "metadata": {
    "scrolled": true
   },
   "outputs": [
    {
     "name": "stdout",
     "output_type": "stream",
     "text": [
      "From the GitHub activity on January 9th, 2025, here's a summary of the issues:\n",
      "\n",
      "1. **Issue Opened in Repository ashishkj21/DailyPulseFastAPI**\n",
      "   - **Title:** DB setup not complete\n",
      "   - **Details:** The issue was opened indicating that the DB setup has not been completed for the code base.\n",
      "   - **Issue URL:** [DB setup not complete](https://github.com/ashishkj21/DailyPulseFastAPI/issues/6)\n",
      "   - **Date:** 2025-01-09 20:59:32\n",
      "\n",
      "This is the primary issue activity from yesterday. Would you like to delve into more details or discuss another topic?"
     ]
    },
    {
     "data": {
      "text/markdown": [
       "From the GitHub activity on January 9th, 2025, here's a summary of the issues:\n",
       "\n",
       "1. **Issue Opened in Repository ashishkj21/DailyPulseFastAPI**\n",
       "   - **Title:** DB setup not complete\n",
       "   - **Details:** The issue was opened indicating that the DB setup has not been completed for the code base.\n",
       "   - **Issue URL:** [DB setup not complete](https://github.com/ashishkj21/DailyPulseFastAPI/issues/6)\n",
       "   - **Date:** 2025-01-09 20:59:32\n",
       "\n",
       "This is the primary issue activity from yesterday. Would you like to delve into more details or discuss another topic?"
      ],
      "text/plain": [
       "<IPython.core.display.Markdown object>"
      ]
     },
     "metadata": {},
     "output_type": "display_data"
    }
   ],
   "source": [
    "printmd(brain_agent_executor.invoke({\"question\": \"Give me a summary of the github issues from yesterday\"}, \n",
    "                                    config=config)[\"output\"])"
   ]
  },
  {
   "cell_type": "code",
   "execution_count": 12,
   "id": "3fb2899f-01d7-4671-90f9-2a426af40ef8",
   "metadata": {},
   "outputs": [
    {
     "name": "stdout",
     "output_type": "stream",
     "text": [
      "From the GitHub activity on January 9th, 2025, here's a summary of the issues:\n",
      "\n",
      "1. **Issue Opened in Repository ashishkj21/DailyPulseFastAPI**\n",
      "   - **Title:** DB setup not complete\n",
      "   - **Details:** The issue was opened indicating that the DB setup has not been completed for the code base.\n",
      "   - **Issue URL:** [DB setup not complete](https://github.com/ashishkj21/DailyPulseFastAPI/issues/6)\n",
      "   - **Date:** 2025-01-09 20:59:32\n",
      "\n",
      "This is the primary issue activity from that day. Would you like to delve into more details or discuss another topic?"
     ]
    },
    {
     "data": {
      "text/markdown": [
       "From the GitHub activity on January 9th, 2025, here's a summary of the issues:\n",
       "\n",
       "1. **Issue Opened in Repository ashishkj21/DailyPulseFastAPI**\n",
       "   - **Title:** DB setup not complete\n",
       "   - **Details:** The issue was opened indicating that the DB setup has not been completed for the code base.\n",
       "   - **Issue URL:** [DB setup not complete](https://github.com/ashishkj21/DailyPulseFastAPI/issues/6)\n",
       "   - **Date:** 2025-01-09 20:59:32\n",
       "\n",
       "This is the primary issue activity from that day. Would you like to delve into more details or discuss another topic?"
      ],
      "text/plain": [
       "<IPython.core.display.Markdown object>"
      ]
     },
     "metadata": {},
     "output_type": "display_data"
    }
   ],
   "source": [
    "printmd(brain_agent_executor.invoke({\"question\": \"Give me a summary of the github issues from 9th January\"}, \n",
    "                                    config=config)[\"output\"])"
   ]
  },
  {
   "cell_type": "code",
   "execution_count": 14,
   "id": "99794603-847d-43cc-892d-53afc14e0005",
   "metadata": {},
   "outputs": [
    {
     "name": "stdout",
     "output_type": "stream",
     "text": [
      "Tool: sqlsearch\n",
      "Agent Action: \n",
      "Invoking: `sql_db_list_tables` with `{}`\n",
      "\n",
      "\n",
      "\n",
      "Agent Action: \n",
      "Invoking: `sql_db_schema` with `{'table_names': 'dailypulse'}`\n",
      "\n",
      "\n",
      "\n",
      "The `dailypulse` table in the database has the following structure:\n",
      "\n",
      "- **id** (SERIAL NOT NULL): A unique identifier for each record.\n",
      "- **username** (VARCHAR(255) NOT NULL): The username of the person providing the standup update.\n",
      "- **accomplishment** (TEXT): Details of tasks completed by the user since the last standup.\n",
      "- **todo** (TEXT): The user's planned tasks for the current day.\n",
      "- **blocker** (TEXT): Any challenges or blockers the user is currently facing.\n",
      "- **date** (DATE NOT NULL): The date for which the standup update is recorded.\n",
      "\n",
      "Here are some sample rows from the `dailypulse` table:\n",
      "\n",
      "| id | username  | accomplishment | todo | blocker | date       |\n",
      "|----|-----------|----------------|------|---------|------------|\n",
      "| 1  | ashishkj21| Closed PRs: Initial memory commit and direct message functionality. | Complete DB setup, Address lack of descriptive README. | Incomplete DB setup. | 2025-01-07 |\n",
      "| 2  | ashishkj21| Successfully merged pull requests related to adding all tools to the github_toolkit.py and implement | Continue working on the database setup for the codebase. | Incomplete database setup. | 2025-01-09 |\n",
      "| 3  | ashishkj21| Successfully merged the pull request for \"Direct message functionality\" and \"Initial memory commit\" | Continue working on the database setup for the codebase, as noted in the recently opened issue. Addr | Getting blocked due to lack of tools for date and time segregation. | 2025-01-09 |\n",
      "\n",
      "If you need specific information or a particular query from this table, please let me know!Here are the details from the `dailypulse` table in the database:\n",
      "\n",
      "| id | username   | accomplishment | todo | blocker | date       |\n",
      "|----|------------|----------------|------|---------|------------|\n",
      "| 1  | ashishkj21 | Closed PRs: Initial memory commit and direct message functionality. | Complete DB setup, Address lack of descriptive README. | Incomplete DB setup. | 2025-01-07 |\n",
      "| 2  | ashishkj21 | Successfully merged pull requests related to adding all tools to the github_toolkit.py and implement | Continue working on the database setup for the codebase. | Incomplete database setup. | 2025-01-09 |\n",
      "| 3  | ashishkj21 | Successfully merged the pull request for \"Direct message functionality\" and \"Initial memory commit\" | Continue working on the database setup for the codebase, as noted in the recently opened issue. Addr | Getting blocked due to lack of tools for date and time segregation. | 2025-01-09 |\n",
      "\n",
      "These entries provide a snapshot of your recent standup updates, including accomplishments, plans, and blockers. If you need more specific information or another query, please let me know!"
     ]
    },
    {
     "data": {
      "text/markdown": [
       "Here are the details from the `dailypulse` table in the database:\n",
       "\n",
       "| id | username   | accomplishment | todo | blocker | date       |\n",
       "|----|------------|----------------|------|---------|------------|\n",
       "| 1  | ashishkj21 | Closed PRs: Initial memory commit and direct message functionality. | Complete DB setup, Address lack of descriptive README. | Incomplete DB setup. | 2025-01-07 |\n",
       "| 2  | ashishkj21 | Successfully merged pull requests related to adding all tools to the github_toolkit.py and implement | Continue working on the database setup for the codebase. | Incomplete database setup. | 2025-01-09 |\n",
       "| 3  | ashishkj21 | Successfully merged the pull request for \"Direct message functionality\" and \"Initial memory commit\" | Continue working on the database setup for the codebase, as noted in the recently opened issue. Addr | Getting blocked due to lack of tools for date and time segregation. | 2025-01-09 |\n",
       "\n",
       "These entries provide a snapshot of your recent standup updates, including accomplishments, plans, and blockers. If you need more specific information or another query, please let me know!"
      ],
      "text/plain": [
       "<IPython.core.display.Markdown object>"
      ]
     },
     "metadata": {},
     "output_type": "display_data"
    }
   ],
   "source": [
    "printmd(brain_agent_executor.invoke({\"question\": \"sqlsearch Give me all details of dailypulse\"}, \n",
    "                                    config=config)[\"output\"])"
   ]
  },
  {
   "cell_type": "code",
   "execution_count": null,
   "id": "d8724404-c1b4-4570-81fd-d2462efc26ef",
   "metadata": {},
   "outputs": [],
   "source": []
  }
 ],
 "metadata": {
  "kernelspec": {
   "display_name": "venv",
   "language": "python",
   "name": "venv"
  },
  "language_info": {
   "codemirror_mode": {
    "name": "ipython",
    "version": 3
   },
   "file_extension": ".py",
   "mimetype": "text/x-python",
   "name": "python",
   "nbconvert_exporter": "python",
   "pygments_lexer": "ipython3",
   "version": "3.11.4"
  }
 },
 "nbformat": 4,
 "nbformat_minor": 5
}
